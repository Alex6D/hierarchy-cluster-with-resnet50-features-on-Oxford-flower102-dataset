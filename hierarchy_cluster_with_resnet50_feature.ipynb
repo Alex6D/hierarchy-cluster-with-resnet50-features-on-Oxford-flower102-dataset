{
 "cells": [
  {
   "cell_type": "code",
   "execution_count": 76,
   "metadata": {},
   "outputs": [],
   "source": [
    "from keras.applications.resnet50 import ResNet50\n",
    "from keras.preprocessing import image\n",
    "from keras.applications.resnet50 import preprocess_input\n",
    "import numpy as np\n",
    "import glob\n",
    "import os\n",
    "import scipy.cluster.hierarchy as sch\n",
    "import matplotlib.pylab as plt\n",
    "import json\n",
    "import shutil"
   ]
  },
  {
   "cell_type": "code",
   "execution_count": 77,
   "metadata": {},
   "outputs": [],
   "source": [
    "#图片存放地址\n",
    "class_path = \"/home/arvin/flower/class/0\"\n",
    "#获取本类中排过序的文件名列表\n",
    "if os.path.exists(class_path):\n",
    "    files = sorted(glob.glob(os.path.join(class_path, '*.jpg')))\n",
    "else:\n",
    "    print \"dict not exists!\"\n",
    "    os._exit()"
   ]
  },
  {
   "cell_type": "code",
   "execution_count": 78,
   "metadata": {},
   "outputs": [],
   "source": [
    "#备份图片到class_pass/source\n",
    "shutil.copytree(class_path, os.path.join(class_path,'source'))"
   ]
  },
  {
   "cell_type": "code",
   "execution_count": 79,
   "metadata": {},
   "outputs": [],
   "source": [
    "def max_pool(data):\n",
    "    '''最大池化，将维度减半\n",
    "       输入：np.array , shape (1,x),x为偶数\n",
    "       输出：np.array , shape (1,x/2)\n",
    "    '''\n",
    "    ls = []\n",
    "    i=0\n",
    "    while i< data.shape[1]:\n",
    "        j = i + 1\n",
    "        if data[0][i] > data[0][j]:\n",
    "            ls.append(data[0][i])\n",
    "        else:\n",
    "            ls.append(data[0][j])\n",
    "        i=i+2\n",
    "    a = np.array(ls).reshape(1,len(ls))\n",
    "    return a"
   ]
  },
  {
   "cell_type": "code",
   "execution_count": 80,
   "metadata": {},
   "outputs": [],
   "source": [
    "def feature_extraction(files):\n",
    "    '''使用imagenet训练的resnet50抽取图片特征将本文件夹中所有的图片特征堆叠\n",
    "    输入：图片的文件名列表\n",
    "    输出：np.array,shape(m,1024),m为图片数量。\n",
    "    '''\n",
    "    model = ResNet50(weights='imagenet', include_top=False,pooling='max')\n",
    "    for i in range(len(files)):\n",
    "        img_path = files[i]\n",
    "        img = image.load_img(img_path, target_size=(224, 224))\n",
    "        x = image.img_to_array(img)\n",
    "        x = np.expand_dims(x, axis=0)\n",
    "        x = preprocess_input(x)\n",
    "        pre_features = model.predict(x)\n",
    "        features = max_pool(pre_features)\n",
    "        if data_num == 0:\n",
    "            pre_data = features\n",
    "        else:\n",
    "            #垂直将数组堆叠起来，顺序与files里的图片路径对应\n",
    "            pre_data = np.vstack((pre_data,features))\n",
    "        print (\"%3d done  total : %d\" %(i+1,len(files)))\n",
    "    return pre_data"
   ]
  },
  {
   "cell_type": "code",
   "execution_count": 81,
   "metadata": {
    "scrolled": true
   },
   "outputs": [
    {
     "name": "stdout",
     "output_type": "stream",
     "text": [
      "checked\n",
      "\n"
     ]
    }
   ],
   "source": [
    "pre_data = feature_extraction(files)"
   ]
  },
  {
   "cell_type": "code",
   "execution_count": 82,
   "metadata": {},
   "outputs": [],
   "source": [
    "def save_data(content,filename):\n",
    "    '''保存数据为json文件\n",
    "       输入：content：np.array\n",
    "            filename:存储的文件名\n",
    "    '''\n",
    "    content = content.tolist()\n",
    "    with open(filename,'w') as file_object:\n",
    "        json.dump(content,file_object)"
   ]
  },
  {
   "cell_type": "code",
   "execution_count": 83,
   "metadata": {},
   "outputs": [],
   "source": [
    "#保存抽取的特征\n",
    "save_data(pre_data,os.path.join(class_path,'features.json'))"
   ]
  },
  {
   "cell_type": "code",
   "execution_count": 84,
   "metadata": {},
   "outputs": [],
   "source": [
    "def load_data(filename):\n",
    "    '''加载保存的json文件\n",
    "       输入：文件名\n",
    "       输出：np.array\n",
    "    '''\n",
    "    with open(filename,'r') as file_object:\n",
    "        content = json.load(file_object)\n",
    "    content = np.array(content)\n",
    "    return content"
   ]
  },
  {
   "cell_type": "code",
   "execution_count": 85,
   "metadata": {},
   "outputs": [],
   "source": [
    "#计算样本间距离，采用‘euclidean’\n",
    "Y = sch.distance.pdist(pre_data,'euclidean')"
   ]
  },
  {
   "cell_type": "code",
   "execution_count": 86,
   "metadata": {},
   "outputs": [],
   "source": [
    "#保存距离文件\n",
    "save_data(Y,os.path.join(class_path,'dist.json'))"
   ]
  },
  {
   "cell_type": "code",
   "execution_count": 87,
   "metadata": {},
   "outputs": [],
   "source": [
    "#计算层次聚类树，保存linkage文件和树的图片\n",
    "Z=sch.linkage(Y,method='average')\n",
    "save_data(Z,os.path.join(class_path,'linkage.json'))\n",
    "P=sch.dendrogram(Z)\n",
    "plt.savefig(os.path.join(class_path,'tree.png'))"
   ]
  },
  {
   "cell_type": "code",
   "execution_count": 90,
   "metadata": {},
   "outputs": [],
   "source": [
    "#根据‘inconsistent’对树进行剪裁获得聚类标签，注意调整t值获得合适的聚类结果\n",
    "labels= sch.fcluster(Z, criterion='inconsistent',t=1.1)\n",
    "print (label)"
   ]
  },
  {
   "cell_type": "code",
   "execution_count": 92,
   "metadata": {},
   "outputs": [],
   "source": [
    "#保存聚类结果标签，\n",
    "save_data(pre_data,os.path.join(class_path,'cluster-label.json'))"
   ]
  },
  {
   "cell_type": "code",
   "execution_count": 93,
   "metadata": {
    "scrolled": true
   },
   "outputs": [],
   "source": [
    "#将聚类标签添加至文件名\n",
    "for i in range(len(files)):\n",
    "    os.rename(files[i],os.path.join(class_path,str(labels[i])+'-'+files[i].split('/')[-1]))   "
   ]
  },
  {
   "cell_type": "code",
   "execution_count": null,
   "metadata": {},
   "outputs": [],
   "source": []
  }
 ],
 "metadata": {
  "kernelspec": {
   "display_name": "Python 2",
   "language": "python",
   "name": "python2"
  },
  "language_info": {
   "codemirror_mode": {
    "name": "ipython",
    "version": 2
   },
   "file_extension": ".py",
   "mimetype": "text/x-python",
   "name": "python",
   "nbconvert_exporter": "python",
   "pygments_lexer": "ipython2",
   "version": "2.7.12"
  }
 },
 "nbformat": 4,
 "nbformat_minor": 2
}
