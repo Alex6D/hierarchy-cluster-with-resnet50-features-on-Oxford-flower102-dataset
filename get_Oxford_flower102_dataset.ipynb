{
 "cells": [
  {
   "cell_type": "code",
   "execution_count": 1,
   "metadata": {},
   "outputs": [],
   "source": [
    "import os\n",
    "import glob\n",
    "import tarfile\n",
    "import numpy as np\n",
    "from scipy.io import loadmat\n",
    "from shutil import copyfile, rmtree\n",
    "import sys\n",
    "import json\n",
    "'''获得Oxford flower 102 数据集图片放在文件夹jpg，\n",
    "   并将不同种类的花分别存放在class/0～101\n",
    "'''\n",
    "if sys.version_info[0] >= 3:\n",
    "    from urllib.request import urlretrieve\n",
    "else:\n",
    "    # Not Python 3 - today, it is most likely to be Python 2\n",
    "    # But note that this might need an update when Python 4\n",
    "    # might be around one day\n",
    "    from urllib import urlretrieve"
   ]
  },
  {
   "cell_type": "code",
   "execution_count": 2,
   "metadata": {},
   "outputs": [],
   "source": [
    "def download_file(url, dest=None):\n",
    "    if not dest:\n",
    "        dest = os.path.join(data_path, url.split('/')[-1])\n",
    "    urlretrieve(url, dest)"
   ]
  },
  {
   "cell_type": "code",
   "execution_count": 30,
   "metadata": {},
   "outputs": [],
   "source": [
    "data_path = 'flower'"
   ]
  },
  {
   "cell_type": "code",
   "execution_count": 4,
   "metadata": {},
   "outputs": [
    {
     "name": "stdout",
     "output_type": "stream",
     "text": [
      "Downloading images...\n",
      "Downloading image labels...\n"
     ]
    }
   ],
   "source": [
    "# 下载数据集的图片和标签，如果文件已经存在则不会下载\n",
    "if not os.path.exists(data_path):\n",
    "    os.mkdir(data_path)\n",
    "#下载图片\n",
    "flowers_archive_path = os.path.join(data_path, '102flowers.tgz')\n",
    "if not os.path.isfile(flowers_archive_path):\n",
    "    print ('Downloading images...')\n",
    "    download_file('http://www.robots.ox.ac.uk/~vgg/data/flowers/102/102flowers.tgz')\n",
    "    #解压图片压缩包\n",
    "    tarfile.open(flowers_archive_path).extractall(path=data_path)\n",
    "#下载标签\n",
    "image_labels_path = os.path.join(data_path, 'imagelabels.mat')\n",
    "if not os.path.isfile(image_labels_path):\n",
    "    print(\"Downloading image labels...\")\n",
    "    download_file('http://www.robots.ox.ac.uk/~vgg/data/flowers/102/imagelabels.mat')"
   ]
  },
  {
   "cell_type": "code",
   "execution_count": 5,
   "metadata": {},
   "outputs": [],
   "source": [
    "# 读取标签文件\n",
    "image_labels = loadmat(image_labels_path)['labels'][0]\n",
    "#标签改为从0开始\n",
    "image_labels -= 1"
   ]
  },
  {
   "cell_type": "code",
   "execution_count": 6,
   "metadata": {},
   "outputs": [],
   "source": [
    "#将一一对应的文件名和标签打包\n",
    "files = sorted(glob.glob(os.path.join(data_path, 'jpg', '*.jpg')))\n",
    "labels = np.array([i for i in zip(files, image_labels)])"
   ]
  },
  {
   "cell_type": "code",
   "execution_count": 7,
   "metadata": {},
   "outputs": [],
   "source": [
    "# 获取当前工作目录\n",
    "cwd = os.getcwd()"
   ]
  },
  {
   "cell_type": "code",
   "execution_count": 9,
   "metadata": {},
   "outputs": [],
   "source": [
    "def move_files(dir_name,cwd,labels):\n",
    "    '''并将不同种类的花分别存放在class/0～101\n",
    "       输入： dir_name：存放分类图片的文件夹名\n",
    "             labels：np.array,存放文件名与标签的对应关系，shape(m,2),m为图片数\n",
    "    '''\n",
    "    cur_dir_path = os.path.join(cwd, dir_name)\n",
    "    if not os.path.exists(cur_dir_path):\n",
    "        os.mkdir(cur_dir_path)\n",
    "    for i in range(0, 102):\n",
    "        class_dir = os.path.join(cwd, dir_name, str(i))\n",
    "        os.mkdir(class_dir)\n",
    "    for label in labels:\n",
    "        src = str(label[0])\n",
    "        dst = os.path.join(cwd,dir_name, label[1], src.split(os.sep)[-1])\n",
    "        copyfile(src, dst)\n"
   ]
  },
  {
   "cell_type": "code",
   "execution_count": 10,
   "metadata": {},
   "outputs": [],
   "source": [
    "dir_name=os.path.join(data_path,'class')\n",
    "move_files(dir_name,cwd,labels)"
   ]
  },
  {
   "cell_type": "code",
   "execution_count": 15,
   "metadata": {},
   "outputs": [],
   "source": [
    "def save_dict(content,filename):\n",
    "    '''保存数据为字典json文件\n",
    "       输入：content：np.array\n",
    "            filename:存储的文件名\n",
    "    '''\n",
    "    content = dict(content)\n",
    "    with open(filename,'w') as file_object:\n",
    "        json.dump(content,file_object)"
   ]
  },
  {
   "cell_type": "code",
   "execution_count": 26,
   "metadata": {},
   "outputs": [],
   "source": [
    "def load_dict(filename):\n",
    "    '''加载保存的json文件\n",
    "       输入：文件名\n",
    "       输出：dict\n",
    "    '''\n",
    "    with open(filename,'r') as file_object:\n",
    "        content = json.load(file_object)\n",
    "    return content"
   ]
  },
  {
   "cell_type": "code",
   "execution_count": 31,
   "metadata": {},
   "outputs": [],
   "source": [
    "#保存标签字典\n",
    "save_dict(labels,os.path.join(data_path,'image-label.json'))"
   ]
  }
 ],
 "metadata": {
  "kernelspec": {
   "display_name": "Python 2",
   "language": "python",
   "name": "python2"
  },
  "language_info": {
   "codemirror_mode": {
    "name": "ipython",
    "version": 2
   },
   "file_extension": ".py",
   "mimetype": "text/x-python",
   "name": "python",
   "nbconvert_exporter": "python",
   "pygments_lexer": "ipython2",
   "version": "2.7.12"
  }
 },
 "nbformat": 4,
 "nbformat_minor": 2
}
